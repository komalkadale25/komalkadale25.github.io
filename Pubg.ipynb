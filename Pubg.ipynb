{
  "nbformat": 4,
  "nbformat_minor": 0,
  "metadata": {
    "colab": {
      "name": "Pubg.ipynb",
      "provenance": [],
      "collapsed_sections": [],
      "authorship_tag": "ABX9TyNwFr6/Aw7fgDjnhzGQCTle",
      "include_colab_link": true
    },
    "kernelspec": {
      "name": "python3",
      "display_name": "Python 3"
    }
  },
  "cells": [
    {
      "cell_type": "markdown",
      "metadata": {
        "id": "view-in-github",
        "colab_type": "text"
      },
      "source": [
        "<a href=\"https://colab.research.google.com/github/komalkadale25/komalkadale25.github.io/blob/master/Pubg.ipynb\" target=\"_parent\"><img src=\"https://colab.research.google.com/assets/colab-badge.svg\" alt=\"Open In Colab\"/></a>"
      ]
    },
    {
      "cell_type": "code",
      "metadata": {
        "id": "fxpZxe662UVI",
        "colab_type": "code",
        "colab": {}
      },
      "source": [
        "!pip install -U -q PyDrive\n",
        "from pydrive.auth import GoogleAuth\n",
        "from pydrive.drive import GoogleDrive\n",
        "from google.colab import auth\n",
        "from oauth2client.client import GoogleCredentials"
      ],
      "execution_count": 0,
      "outputs": []
    },
    {
      "cell_type": "code",
      "metadata": {
        "id": "P1IuO9mY2VN4",
        "colab_type": "code",
        "colab": {}
      },
      "source": [
        "auth.authenticate_user()\n",
        "gauth = GoogleAuth()\n",
        "gauth.credentials = GoogleCredentials.get_application_default()\n",
        "drive = GoogleDrive(gauth)\n"
      ],
      "execution_count": 0,
      "outputs": []
    },
    {
      "cell_type": "code",
      "metadata": {
        "id": "EhsgJHbu2i-m",
        "colab_type": "code",
        "colab": {}
      },
      "source": [
        "downloaded = drive.CreateFile({'id':'1Naeg2oYxVm4cE_1DOUQxe1L72y4rxUY5'}) # replace the id with id of file you want to access\n",
        "downloaded.GetContentFile('test_V2.csv') \n"
      ],
      "execution_count": 0,
      "outputs": []
    },
    {
      "cell_type": "code",
      "metadata": {
        "id": "1RLjAkPu6GBw",
        "colab_type": "code",
        "colab": {
          "base_uri": "https://localhost:8080/",
          "height": 90
        },
        "outputId": "a7727524-ed0e-4a2e-ff40-ac51f5ba4195"
      },
      "source": [
        "import pandas as pd\n",
        "test = pd.read_csv('test_V2.csv') \n",
        "print(test.head(1))"
      ],
      "execution_count": 4,
      "outputs": [
        {
          "output_type": "stream",
          "text": [
            "               Id         groupId  ... weaponsAcquired  winPoints\n",
            "0  9329eb41e215eb  676b23c24e70d6  ...               1          0\n",
            "\n",
            "[1 rows x 28 columns]\n"
          ],
          "name": "stdout"
        }
      ]
    },
    {
      "cell_type": "code",
      "metadata": {
        "id": "grlIeRJA51QB",
        "colab_type": "code",
        "colab": {}
      },
      "source": [
        "downloaded = drive.CreateFile({'id':'1Naeg2oYxVm4cE_1DOUQxe1L72y4rxUY5'}) # replace the id with id of file you want to access\n",
        "downloaded.GetContentFile('train_V2.csv') "
      ],
      "execution_count": 0,
      "outputs": []
    },
    {
      "cell_type": "code",
      "metadata": {
        "id": "g_Q9ViLl6Zpn",
        "colab_type": "code",
        "colab": {}
      },
      "source": [
        "test = pd.read_csv('train_V2.csv') \n",
        "print(test.head(1))"
      ],
      "execution_count": 0,
      "outputs": []
    }
  ]
}